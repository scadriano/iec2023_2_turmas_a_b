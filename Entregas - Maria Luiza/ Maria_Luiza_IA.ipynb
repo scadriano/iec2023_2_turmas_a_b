{
  "nbformat": 4,
  "nbformat_minor": 0,
  "metadata": {
    "colab": {
      "provenance": [],
      "authorship_tag": "ABX9TyOVLgluSg4mjgKkOoi6iW5s",
      "include_colab_link": true
    },
    "kernelspec": {
      "name": "python3",
      "display_name": "Python 3"
    },
    "language_info": {
      "name": "python"
    }
  },
  "cells": [
    {
      "cell_type": "markdown",
      "metadata": {
        "id": "view-in-github",
        "colab_type": "text"
      },
      "source": [
        "<a href=\"https://colab.research.google.com/github/Maryxlu/iec2023_2_turmas_a_b/blob/main/Entregas%20-%20Maria%20Luiza/%20Maria_Luiza_IA.ipynb\" target=\"_parent\"><img src=\"https://colab.research.google.com/assets/colab-badge.svg\" alt=\"Open In Colab\"/></a>"
      ]
    },
    {
      "cell_type": "code",
      "execution_count": null,
      "metadata": {
        "id": "YGcBAVVS2UYY"
      },
      "outputs": [],
      "source": []
    }
  ]
}